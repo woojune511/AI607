{
 "cells": [
  {
   "cell_type": "code",
   "execution_count": 1,
   "id": "f8d3e31e-f01a-4838-8a2f-49c0b094b236",
   "metadata": {},
   "outputs": [],
   "source": [
    "import argparse\n",
    "from collections import defaultdict\n",
    "import random\n",
    "from itertools import combinations\n",
    "import matplotlib.pyplot as plt"
   ]
  },
  {
   "cell_type": "code",
   "execution_count": 2,
   "id": "ab5cc8d1-e170-4943-83fa-7e5180ea1435",
   "metadata": {},
   "outputs": [],
   "source": [
    "class Network:\n",
    "    \"\"\"Graph structure for the analysis of the input network\n",
    "    \"\"\"\n",
    "\n",
    "    def __init__(self, file_path):\n",
    "        \"\"\"The constructor of the Network class.\n",
    "        It parses the input file and generates a graph.\n",
    "\n",
    "        Args:\n",
    "            file_path (str): The path of the input file\n",
    "        \"\"\"\n",
    "        self.adj = defaultdict(list)\n",
    "        self.connected = defaultdict(list)\n",
    "\n",
    "        self.fd = open(file_path, \"r\", encoding='UTF8')  # File object\n",
    "        \n",
    "        for line in self.fd.readlines():\n",
    "                _line = line.rstrip().split(\"\\t\")\n",
    "                self.connected[int(_line[0])].append(int(_line[1]))\n",
    "                self.adj[int(_line[0])].append(int(_line[1]))\n",
    "                self.adj[int(_line[1])].append(int(_line[0]))\n",
    "                \n",
    "    def nodes(self):\n",
    "        return self.adj.keys()\n",
    "    \n",
    "    def neighbors(self, x):\n",
    "        return self.adj[x]\n",
    "    \n",
    "    def isConnected(self, x, y):\n",
    "        if(y in self.connected[x]):\n",
    "            return True\n",
    "        else:\n",
    "            return False"
   ]
  },
  {
   "cell_type": "code",
   "execution_count": 3,
   "id": "42b7ce4e-0dc6-4a10-b6b0-51693404b9b8",
   "metadata": {},
   "outputs": [],
   "source": [
    "def ESU(G, k):\n",
    "    k_subgraphs = []\n",
    "    for v in list(G.nodes()):\n",
    "        v_extension = set([u for u in G.neighbors(v) if u > v])\n",
    "        extendSubgraph(G, set([v]), v_extension, v, k, k_subgraphs)\n",
    "    return k_subgraphs\n",
    "\n",
    "def extendSubgraph(G, v_subgraph, v_extension, v, k, k_subgraphs):\n",
    "    if(len(v_subgraph) == k):\n",
    "        k_subgraphs.append(v_subgraph)\n",
    "        return\n",
    "    while (len(v_extension) > 0):\n",
    "        w = random.choice(tuple(v_extension))\n",
    "        v_extension.remove(w)\n",
    "        a = exclusiveNeighborhood(G, w, v_subgraph)\n",
    "        vpExtension = v_extension | set([u for u in a if u > v])\n",
    "        extendSubgraph(G, v_subgraph | set([w]), vpExtension, v, k, k_subgraphs)\n",
    "    return\n",
    "        \n",
    "def exclusiveNeighborhood(G, v, Vp):\n",
    "    Nv = set(G.neighbors(v))\n",
    "    Nvpll = set([G.neighbors(v) for v in Vp][0])\n",
    "    return Nv - (Nvpll | set(Vp))"
   ]
  },
  {
   "cell_type": "code",
   "execution_count": 4,
   "id": "273dcccf-2cbd-4832-a917-63502dc52d03",
   "metadata": {},
   "outputs": [],
   "source": [
    "def countMotifs(G, k_subgraphs):\n",
    "    ######### Task 1. Complete the constructor of Code ##########\n",
    "    # Given an input graph G and its subgraphs k_subgraphs, count the motifs  \n",
    "    # return format should be either list or dictionary\n",
    "    # You may declare any class variable or method if needed\n",
    "    # E.g., ans[4] should return the number of M_5 in the graph\n",
    "    #############################################################\n",
    "    return ans"
   ]
  },
  {
   "cell_type": "code",
   "execution_count": 20,
   "id": "699f22ee-2965-4421-a18c-8f0d6c222c29",
   "metadata": {},
   "outputs": [],
   "source": [
    "# Problem 1: implement the count motif function, which returns the network motif index given an instance corresponding to M_i. \n",
    "# Report the absolute counts of each motif M_i (i= 1,···,13) of the given eight graphs.\n",
    "\n",
    "graph_list = ['email', 'web', 'A', 'B']\n",
    "graph_motifs = {}\n",
    "\n",
    "for graph in graph_list:\n",
    "    # File names of the graphs.\n",
    "    f_real_graph = './data/' + graph + '.txt'\n",
    "    f_rand_graph = './data/' + graph + '_random.txt'\n",
    "\n",
    "    # Generate the graph.\n",
    "    real_graph = Network(f_real_graph)\n",
    "    rand_graph = Network(f_rand_graph)\n",
    "\n",
    "    # Run the ESU algorithm in real graph.\n",
    "    real_k_subgraphs = ESU(real_graph, 3)\n",
    "    real_motifs = countMotifs(real_graph, real_k_subgraphs)\n",
    "\n",
    "    # Run the ESU algorithm in NULL graph.\n",
    "    rand_k_subgraphs = ESU(rand_graph, 3)\n",
    "    rand_motifs = countMotifs(rand_graph, rand_k_subgraphs)\n",
    "    \n",
    "    # Save the motif counts.\n",
    "    graph_motifs[graph] = {'real': real_motifs, 'rand': rand_motifs}"
   ]
  },
  {
   "cell_type": "code",
   "execution_count": 13,
   "id": "916c642e-084e-4c1d-837e-1f86d6b9d209",
   "metadata": {},
   "outputs": [],
   "source": [
    "def normalizedSignificance(real_motifs, rand_motifs):\n",
    "     ######### Task 2. Complete the Code ###################################\n",
    "    # Given an real world graph's motif count and random graph's motif count, return the normalized significance score of each motifs\n",
    "    # return format should be in list\n",
    "    # You may declare any class variable or method if needed\n",
    "    # E.g., ans[4] should return the significance score of M_5 in the graph\n",
    "    ########################################################################\n",
    "    return norm_sig"
   ]
  },
  {
   "cell_type": "code",
   "execution_count": 23,
   "id": "0705389b-b87f-49f4-9670-77a3257e43ab",
   "metadata": {},
   "outputs": [],
   "source": [
    "# Problem 2-1: Compute the normalized significance of each motif.\n",
    "NS_email = normalizedSignificance(graph_motifs['email']['real'], graph_motifs['email']['rand'])\n",
    "NS_web = normalizedSignificance(graph_motifs['web']['real'], graph_motifs['web']['rand'])\n",
    "NS_A = normalizedSignificance(graph_motifs['A']['real'], graph_motifs['A']['rand'])\n",
    "NS_B = normalizedSignificance(graph_motifs['B']['real'], graph_motifs['B']['rand'])"
   ]
  },
  {
   "cell_type": "code",
   "execution_count": null,
   "id": "a70f40a3-d950-485b-b687-8bdc66d51988",
   "metadata": {},
   "outputs": [],
   "source": [
    "# Problem 2-2: Plot the normalized significance computed above.\n",
    "plt.plot(list(range(1,14)), NS_email, 'o-', label='email')\n",
    "plt.plot(list(range(1,14)), NS_web, 'o--', label='web')\n",
    "plt.plot(list(range(1,14)), NS_A, 'o-', label='A')\n",
    "plt.plot(list(range(1,14)), NS_B, 'o--', label='B')\n",
    "plt.legend()\n",
    "plt.tight_layout()\n",
    "plt.show()"
   ]
  },
  {
   "cell_type": "code",
   "execution_count": null,
   "id": "91710377-da46-460c-92d6-d7c3d94474b4",
   "metadata": {},
   "outputs": [],
   "source": [
    "# Problem 3: One between A and B is a web graph, and the other is an email. What do you think is a web graph? Provide reasons based on the normalized significance obtained in the previous step.\n",
    "\n",
    "\n",
    "\n",
    "\n",
    "\n",
    "\n",
    "\n"
   ]
  }
 ],
 "metadata": {
  "kernelspec": {
   "display_name": "Python 3",
   "language": "python",
   "name": "python3"
  },
  "language_info": {
   "codemirror_mode": {
    "name": "ipython",
    "version": 3
   },
   "file_extension": ".py",
   "mimetype": "text/x-python",
   "name": "python",
   "nbconvert_exporter": "python",
   "pygments_lexer": "ipython3",
   "version": "3.7.10"
  }
 },
 "nbformat": 4,
 "nbformat_minor": 5
}
